{
 "cells": [
  {
   "cell_type": "markdown",
   "metadata": {},
   "source": [
    "## Import Libraries"
   ]
  },
  {
   "cell_type": "code",
   "execution_count": 209,
   "metadata": {},
   "outputs": [],
   "source": [
    "import pandas as pd\n",
    "from matplotlib import pyplot as plt\n",
    "import datetime as dt\n",
    "import numpy as np\n",
    "import math"
   ]
  },
  {
   "cell_type": "markdown",
   "metadata": {},
   "source": [
    "## Load dataset"
   ]
  },
  {
   "cell_type": "code",
   "execution_count": 175,
   "metadata": {},
   "outputs": [
    {
     "name": "stdout",
     "output_type": "stream",
     "text": [
      "(10000, 11)\n",
      "['customer_id', 'First Time', 'Recent Time', '# of Orders', '# of Orders in last 7 days', '# of Orders in last 4 weeks', 'Amount', 'Amount in last 7 days', 'Amount in last 4 weeks', 'Avg_DistanceFromResturant', 'Avg_DeliveryTime']\n",
      "customer_id                      int64\n",
      "First Time                      object\n",
      "Recent Time                     object\n",
      "# of Orders                      int64\n",
      "# of Orders in last 7 days     float64\n",
      "# of Orders in last 4 weeks    float64\n",
      "Amount                           int64\n",
      "Amount in last 7 days            int64\n",
      "Amount in last 4 weeks           int64\n",
      "Avg_DistanceFromResturant      float64\n",
      "Avg_DeliveryTime                 int64\n",
      "dtype: object\n"
     ]
    }
   ],
   "source": [
    "df = pd.read_csv('SampleAssessment.csv')\n",
    "print(df.shape)\n",
    "print(df.columns.tolist())\n",
    "print(df.dtypes)"
   ]
  },
  {
   "cell_type": "markdown",
   "metadata": {},
   "source": [
    "## Convert object to time"
   ]
  },
  {
   "cell_type": "code",
   "execution_count": 176,
   "metadata": {},
   "outputs": [
    {
     "data": {
      "text/plain": [
       "customer_id                             int64\n",
       "First Time                     datetime64[ns]\n",
       "Recent Time                    datetime64[ns]\n",
       "# of Orders                             int64\n",
       "# of Orders in last 7 days            float64\n",
       "# of Orders in last 4 weeks           float64\n",
       "Amount                                  int64\n",
       "Amount in last 7 days                   int64\n",
       "Amount in last 4 weeks                  int64\n",
       "Avg_DistanceFromResturant             float64\n",
       "Avg_DeliveryTime                        int64\n",
       "dtype: object"
      ]
     },
     "execution_count": 176,
     "metadata": {},
     "output_type": "execute_result"
    }
   ],
   "source": [
    "cols = ['First Time', 'Recent Time']\n",
    "for column in cols:\n",
    "    df[column] = pd.to_datetime(df[column])\n",
    "df.dtypes"
   ]
  },
  {
   "cell_type": "markdown",
   "metadata": {},
   "source": [
    "## count of unique vs null values"
   ]
  },
  {
   "cell_type": "code",
   "execution_count": 177,
   "metadata": {},
   "outputs": [
    {
     "data": {
      "text/html": [
       "<div>\n",
       "<style scoped>\n",
       "    .dataframe tbody tr th:only-of-type {\n",
       "        vertical-align: middle;\n",
       "    }\n",
       "\n",
       "    .dataframe tbody tr th {\n",
       "        vertical-align: top;\n",
       "    }\n",
       "\n",
       "    .dataframe thead th {\n",
       "        text-align: right;\n",
       "    }\n",
       "</style>\n",
       "<table border=\"1\" class=\"dataframe\">\n",
       "  <thead>\n",
       "    <tr style=\"text-align: right;\">\n",
       "      <th></th>\n",
       "      <th>num_unique</th>\n",
       "      <th>num_nulls</th>\n",
       "    </tr>\n",
       "  </thead>\n",
       "  <tbody>\n",
       "    <tr>\n",
       "      <th>customer_id</th>\n",
       "      <td>10000</td>\n",
       "      <td>0</td>\n",
       "    </tr>\n",
       "    <tr>\n",
       "      <th>First Time</th>\n",
       "      <td>9818</td>\n",
       "      <td>0</td>\n",
       "    </tr>\n",
       "    <tr>\n",
       "      <th>Recent Time</th>\n",
       "      <td>9759</td>\n",
       "      <td>0</td>\n",
       "    </tr>\n",
       "    <tr>\n",
       "      <th># of Orders</th>\n",
       "      <td>118</td>\n",
       "      <td>0</td>\n",
       "    </tr>\n",
       "    <tr>\n",
       "      <th># of Orders in last 7 days</th>\n",
       "      <td>14</td>\n",
       "      <td>8077</td>\n",
       "    </tr>\n",
       "    <tr>\n",
       "      <th># of Orders in last 4 weeks</th>\n",
       "      <td>39</td>\n",
       "      <td>5659</td>\n",
       "    </tr>\n",
       "    <tr>\n",
       "      <th>Amount</th>\n",
       "      <td>3910</td>\n",
       "      <td>0</td>\n",
       "    </tr>\n",
       "    <tr>\n",
       "      <th>Amount in last 7 days</th>\n",
       "      <td>981</td>\n",
       "      <td>0</td>\n",
       "    </tr>\n",
       "    <tr>\n",
       "      <th>Amount in last 4 weeks</th>\n",
       "      <td>1916</td>\n",
       "      <td>0</td>\n",
       "    </tr>\n",
       "    <tr>\n",
       "      <th>Avg_DistanceFromResturant</th>\n",
       "      <td>66</td>\n",
       "      <td>0</td>\n",
       "    </tr>\n",
       "    <tr>\n",
       "      <th>Avg_DeliveryTime</th>\n",
       "      <td>66</td>\n",
       "      <td>0</td>\n",
       "    </tr>\n",
       "  </tbody>\n",
       "</table>\n",
       "</div>"
      ],
      "text/plain": [
       "                            num_unique num_nulls\n",
       "customer_id                      10000         0\n",
       "First Time                        9818         0\n",
       "Recent Time                       9759         0\n",
       "# of Orders                        118         0\n",
       "# of Orders in last 7 days          14      8077\n",
       "# of Orders in last 4 weeks         39      5659\n",
       "Amount                            3910         0\n",
       "Amount in last 7 days              981         0\n",
       "Amount in last 4 weeks            1916         0\n",
       "Avg_DistanceFromResturant           66         0\n",
       "Avg_DeliveryTime                    66         0"
      ]
     },
     "execution_count": 177,
     "metadata": {},
     "output_type": "execute_result"
    }
   ],
   "source": [
    "summary_df = pd.DataFrame(columns=['num_unique', 'num_nulls'])\n",
    "for column in df.columns:\n",
    "    summary_df.loc[column] = [df[column].nunique(), df[column].isna().sum()]\n",
    "summary_df"
   ]
  },
  {
   "cell_type": "markdown",
   "metadata": {},
   "source": [
    "### searching for null values"
   ]
  },
  {
   "cell_type": "code",
   "execution_count": 178,
   "metadata": {},
   "outputs": [
    {
     "data": {
      "text/plain": [
       "customer_id                       0\n",
       "First Time                        0\n",
       "Recent Time                       0\n",
       "# of Orders                       0\n",
       "# of Orders in last 7 days     8077\n",
       "# of Orders in last 4 weeks    5659\n",
       "Amount                            0\n",
       "Amount in last 7 days             0\n",
       "Amount in last 4 weeks            0\n",
       "Avg_DistanceFromResturant         0\n",
       "Avg_DeliveryTime                  0\n",
       "dtype: int64"
      ]
     },
     "execution_count": 178,
     "metadata": {},
     "output_type": "execute_result"
    }
   ],
   "source": [
    "df.isnull().sum(axis=0)"
   ]
  },
  {
   "cell_type": "markdown",
   "metadata": {},
   "source": [
    "### Only the below columns have null values, replace nulls with zeros\n",
    "* '# of Orders in last 7 day'\n",
    "* '# of Orders in last 4 weeks'"
   ]
  },
  {
   "cell_type": "code",
   "execution_count": 179,
   "metadata": {},
   "outputs": [
    {
     "name": "stdout",
     "output_type": "stream",
     "text": [
      "(0, 11)\n",
      "(0, 11)\n"
     ]
    }
   ],
   "source": [
    "cols = ['# of Orders in last 7 days', '# of Orders in last 4 weeks']\n",
    "for column in cols:\n",
    "    df[column].fillna(0, inplace=True)\n",
    "print(df[df['# of Orders in last 7 days'].isna()].shape)\n",
    "print(df[df['# of Orders in last 4 weeks'].isna()].shape)"
   ]
  },
  {
   "cell_type": "markdown",
   "metadata": {},
   "source": [
    "## Adding average order value column"
   ]
  },
  {
   "cell_type": "code",
   "execution_count": 180,
   "metadata": {},
   "outputs": [],
   "source": [
    "df['average_cost'] = df.Amount / df['# of Orders']"
   ]
  },
  {
   "cell_type": "markdown",
   "metadata": {},
   "source": [
    "## Adding a time difference column"
   ]
  },
  {
   "cell_type": "code",
   "execution_count": 181,
   "metadata": {},
   "outputs": [],
   "source": [
    "df['time_diff'] =  df['Recent Time'] - df['First Time']"
   ]
  },
  {
   "cell_type": "code",
   "execution_count": 182,
   "metadata": {},
   "outputs": [
    {
     "data": {
      "text/html": [
       "<div>\n",
       "<style scoped>\n",
       "    .dataframe tbody tr th:only-of-type {\n",
       "        vertical-align: middle;\n",
       "    }\n",
       "\n",
       "    .dataframe tbody tr th {\n",
       "        vertical-align: top;\n",
       "    }\n",
       "\n",
       "    .dataframe thead th {\n",
       "        text-align: right;\n",
       "    }\n",
       "</style>\n",
       "<table border=\"1\" class=\"dataframe\">\n",
       "  <thead>\n",
       "    <tr style=\"text-align: right;\">\n",
       "      <th></th>\n",
       "      <th>customer_id</th>\n",
       "      <th>First Time</th>\n",
       "      <th>Recent Time</th>\n",
       "      <th># of Orders</th>\n",
       "      <th># of Orders in last 7 days</th>\n",
       "      <th># of Orders in last 4 weeks</th>\n",
       "      <th>Amount</th>\n",
       "      <th>Amount in last 7 days</th>\n",
       "      <th>Amount in last 4 weeks</th>\n",
       "      <th>Avg_DistanceFromResturant</th>\n",
       "      <th>Avg_DeliveryTime</th>\n",
       "      <th>average_cost</th>\n",
       "      <th>time_diff</th>\n",
       "    </tr>\n",
       "  </thead>\n",
       "  <tbody>\n",
       "    <tr>\n",
       "      <th>494</th>\n",
       "      <td>192338</td>\n",
       "      <td>2015-07-07 10:05:00</td>\n",
       "      <td>2015-12-12 05:14:00</td>\n",
       "      <td>28</td>\n",
       "      <td>0.0</td>\n",
       "      <td>2.0</td>\n",
       "      <td>14574</td>\n",
       "      <td>0</td>\n",
       "      <td>812</td>\n",
       "      <td>3.5</td>\n",
       "      <td>36</td>\n",
       "      <td>520.5</td>\n",
       "      <td>157 days 19:09:00</td>\n",
       "    </tr>\n",
       "    <tr>\n",
       "      <th>7223</th>\n",
       "      <td>537629</td>\n",
       "      <td>2015-08-06 15:06:00</td>\n",
       "      <td>2015-08-07 12:56:00</td>\n",
       "      <td>1</td>\n",
       "      <td>0.0</td>\n",
       "      <td>0.0</td>\n",
       "      <td>346</td>\n",
       "      <td>0</td>\n",
       "      <td>0</td>\n",
       "      <td>1.7</td>\n",
       "      <td>30</td>\n",
       "      <td>346.0</td>\n",
       "      <td>0 days 21:50:00</td>\n",
       "    </tr>\n",
       "    <tr>\n",
       "      <th>6806</th>\n",
       "      <td>408372</td>\n",
       "      <td>2015-07-25 02:16:00</td>\n",
       "      <td>2015-07-28 10:31:00</td>\n",
       "      <td>1</td>\n",
       "      <td>0.0</td>\n",
       "      <td>0.0</td>\n",
       "      <td>421</td>\n",
       "      <td>0</td>\n",
       "      <td>0</td>\n",
       "      <td>4.1</td>\n",
       "      <td>19</td>\n",
       "      <td>421.0</td>\n",
       "      <td>3 days 08:15:00</td>\n",
       "    </tr>\n",
       "    <tr>\n",
       "      <th>7963</th>\n",
       "      <td>1054883</td>\n",
       "      <td>2015-12-07 10:42:00</td>\n",
       "      <td>2015-12-11 20:48:00</td>\n",
       "      <td>1</td>\n",
       "      <td>1.0</td>\n",
       "      <td>1.0</td>\n",
       "      <td>508</td>\n",
       "      <td>508</td>\n",
       "      <td>508</td>\n",
       "      <td>2.5</td>\n",
       "      <td>31</td>\n",
       "      <td>508.0</td>\n",
       "      <td>4 days 10:06:00</td>\n",
       "    </tr>\n",
       "    <tr>\n",
       "      <th>7614</th>\n",
       "      <td>979246</td>\n",
       "      <td>2015-12-04 05:15:00</td>\n",
       "      <td>2015-12-06 18:15:00</td>\n",
       "      <td>1</td>\n",
       "      <td>0.0</td>\n",
       "      <td>1.0</td>\n",
       "      <td>53</td>\n",
       "      <td>0</td>\n",
       "      <td>53</td>\n",
       "      <td>1.3</td>\n",
       "      <td>29</td>\n",
       "      <td>53.0</td>\n",
       "      <td>2 days 13:00:00</td>\n",
       "    </tr>\n",
       "  </tbody>\n",
       "</table>\n",
       "</div>"
      ],
      "text/plain": [
       "      customer_id          First Time         Recent Time  # of Orders  \\\n",
       "494        192338 2015-07-07 10:05:00 2015-12-12 05:14:00           28   \n",
       "7223       537629 2015-08-06 15:06:00 2015-08-07 12:56:00            1   \n",
       "6806       408372 2015-07-25 02:16:00 2015-07-28 10:31:00            1   \n",
       "7963      1054883 2015-12-07 10:42:00 2015-12-11 20:48:00            1   \n",
       "7614       979246 2015-12-04 05:15:00 2015-12-06 18:15:00            1   \n",
       "\n",
       "      # of Orders in last 7 days  # of Orders in last 4 weeks  Amount  \\\n",
       "494                          0.0                          2.0   14574   \n",
       "7223                         0.0                          0.0     346   \n",
       "6806                         0.0                          0.0     421   \n",
       "7963                         1.0                          1.0     508   \n",
       "7614                         0.0                          1.0      53   \n",
       "\n",
       "      Amount in last 7 days  Amount in last 4 weeks  \\\n",
       "494                       0                     812   \n",
       "7223                      0                       0   \n",
       "6806                      0                       0   \n",
       "7963                    508                     508   \n",
       "7614                      0                      53   \n",
       "\n",
       "      Avg_DistanceFromResturant  Avg_DeliveryTime  average_cost  \\\n",
       "494                         3.5                36         520.5   \n",
       "7223                        1.7                30         346.0   \n",
       "6806                        4.1                19         421.0   \n",
       "7963                        2.5                31         508.0   \n",
       "7614                        1.3                29          53.0   \n",
       "\n",
       "             time_diff  \n",
       "494  157 days 19:09:00  \n",
       "7223   0 days 21:50:00  \n",
       "6806   3 days 08:15:00  \n",
       "7963   4 days 10:06:00  \n",
       "7614   2 days 13:00:00  "
      ]
     },
     "execution_count": 182,
     "metadata": {},
     "output_type": "execute_result"
    }
   ],
   "source": [
    "df.sample(5)"
   ]
  },
  {
   "cell_type": "code",
   "execution_count": 183,
   "metadata": {},
   "outputs": [
    {
     "data": {
      "text/plain": [
       "Index(['customer_id', 'First Time', 'Recent Time', '# of Orders',\n",
       "       '# of Orders in last 7 days', '# of Orders in last 4 weeks', 'Amount',\n",
       "       'Amount in last 7 days', 'Amount in last 4 weeks',\n",
       "       'Avg_DistanceFromResturant', 'Avg_DeliveryTime', 'average_cost',\n",
       "       'time_diff'],\n",
       "      dtype='object')"
      ]
     },
     "execution_count": 183,
     "metadata": {},
     "output_type": "execute_result"
    }
   ],
   "source": [
    "df.columns"
   ]
  },
  {
   "cell_type": "code",
   "execution_count": 184,
   "metadata": {},
   "outputs": [
    {
     "name": "stdout",
     "output_type": "stream",
     "text": [
      "2015-06-05 17:21:00\n",
      "2016-01-07 12:42:00\n",
      "2015-06-08 22:07:00\n",
      "2016-01-13 05:54:00\n"
     ]
    }
   ],
   "source": [
    "print(df['First Time'].min())\n",
    "print(df['First Time'].max())\n",
    "\n",
    "print(df['Recent Time'].min())\n",
    "print(df['Recent Time'].max())"
   ]
  },
  {
   "cell_type": "markdown",
   "metadata": {},
   "source": [
    "## Generating RMF metrics"
   ]
  },
  {
   "cell_type": "code",
   "execution_count": 185,
   "metadata": {},
   "outputs": [],
   "source": [
    "rename_dict = {\"# of Orders\": \"Frequency\", \"Amount\": \"Monetory\"}\n",
    "df.rename(rename_dict, inplace=True, axis=1)\n",
    "x = (dt.datetime.utcnow() - df['Recent Time'])\n",
    "df['Recency'] = df['Recent Time'].apply(lambda x: (dt.datetime.utcnow() - x).days)"
   ]
  },
  {
   "cell_type": "code",
   "execution_count": 186,
   "metadata": {},
   "outputs": [
    {
     "data": {
      "text/plain": [
       "customer_id                              int64\n",
       "First Time                      datetime64[ns]\n",
       "Recent Time                     datetime64[ns]\n",
       "Frequency                                int64\n",
       "# of Orders in last 7 days             float64\n",
       "# of Orders in last 4 weeks            float64\n",
       "Monetory                                 int64\n",
       "Amount in last 7 days                    int64\n",
       "Amount in last 4 weeks                   int64\n",
       "Avg_DistanceFromResturant              float64\n",
       "Avg_DeliveryTime                         int64\n",
       "average_cost                           float64\n",
       "time_diff                      timedelta64[ns]\n",
       "Recency                                  int64\n",
       "dtype: object"
      ]
     },
     "execution_count": 186,
     "metadata": {},
     "output_type": "execute_result"
    }
   ],
   "source": [
    "df.dtypes"
   ]
  },
  {
   "cell_type": "markdown",
   "metadata": {},
   "source": [
    "## Creating quantiles"
   ]
  },
  {
   "cell_type": "code",
   "execution_count": 187,
   "metadata": {},
   "outputs": [],
   "source": [
    "quantile_baskets = [0.2, 0.4, 0.6, 0.8, 1]\n",
    "df_quantiles_dict = df.quantile(quantile_baskets).to_dict()"
   ]
  },
  {
   "cell_type": "code",
   "execution_count": 188,
   "metadata": {},
   "outputs": [
    {
     "name": "stdout",
     "output_type": "stream",
     "text": [
      "{'customer_id': {0.2: 267988.4, 0.4: 532701.8, 0.6: 802909.6, 0.8: 1075403.8, 1.0: 1355445.0}, 'Frequency': {0.2: 1.0, 0.4: 2.0, 0.6: 3.0, 0.8: 9.0, 1.0: 212.0}, '# of Orders in last 7 days': {0.2: 0.0, 0.4: 0.0, 0.6: 0.0, 0.8: 0.0, 1.0: 14.0}, '# of Orders in last 4 weeks': {0.2: 0.0, 0.4: 0.0, 0.6: 1.0, 0.8: 2.0, 1.0: 46.0}, 'Monetory': {0.2: 218.0, 0.4: 495.0, 0.6: 1036.0, 0.8: 2689.2000000000007, 1.0: 138808.0}, 'Amount in last 7 days': {0.2: 0.0, 0.4: 0.0, 0.6: 0.0, 0.8: 0.0, 1.0: 10150.0}, 'Amount in last 4 weeks': {0.2: 0.0, 0.4: 0.0, 0.6: 66.0, 0.8: 567.0, 1.0: 26853.0}, 'Avg_DistanceFromResturant': {0.2: 1.5, 0.4: 2.1, 0.6: 2.6, 0.8: 3.2, 1.0: 5.9}, 'Avg_DeliveryTime': {0.2: 24.0, 0.4: 32.0, 0.6: 41.0, 0.8: 50.0, 1.0: 83.0}, 'average_cost': {0.2: 111.0, 0.4: 221.65882352941185, 0.6: 348.4571428571428, 0.8: 535.3632183908047, 1.0: 9906.5}, 'Recency': {0.2: 1013.0, 0.4: 1031.0, 0.6: 1059.0, 0.8: 1102.0, 1.0: 1195.0}}\n"
     ]
    }
   ],
   "source": [
    "print(df_quantiles_dict)"
   ]
  },
  {
   "cell_type": "code",
   "execution_count": 189,
   "metadata": {},
   "outputs": [],
   "source": [
    "def r_score(curr_value, quantile_dict):\n",
    "    for index, quantile in quantile_dict.items():\n",
    "        if curr_value <= quantile:\n",
    "            return quantile_baskets.index(index) + 1\n",
    "    \n",
    "def f_m_score(curr_value, quantile_dict):\n",
    "    for index, quantile in quantile_dict.items():\n",
    "        if curr_value <= quantile:\n",
    "            return len(quantile_dict) - quantile_baskets.index(index)"
   ]
  },
  {
   "cell_type": "code",
   "execution_count": 190,
   "metadata": {},
   "outputs": [],
   "source": [
    "df['R'] = df['Recency'].apply(lambda x: r_score(x, df_quantiles_dict['Recency']))\n",
    "df['M'] = df['Monetory'].apply(lambda x: f_m_score(x, df_quantiles_dict['Monetory']))\n",
    "df['F'] = df['Frequency'].apply(lambda x: f_m_score(x, df_quantiles_dict['Frequency']))\n",
    "df['RMF'] = df.R.apply(str) + df.M.apply(str) + df.F.apply(str)"
   ]
  },
  {
   "cell_type": "code",
   "execution_count": 191,
   "metadata": {},
   "outputs": [
    {
     "data": {
      "text/plain": [
       "dict_items([(0.2, 1013.0), (0.4, 1031.0), (0.6, 1059.0), (0.8, 1102.0), (1.0, 1195.0)])"
      ]
     },
     "execution_count": 191,
     "metadata": {},
     "output_type": "execute_result"
    }
   ],
   "source": [
    "df_quantiles_dict['Recency'].items()"
   ]
  },
  {
   "cell_type": "code",
   "execution_count": 192,
   "metadata": {},
   "outputs": [
    {
     "data": {
      "text/html": [
       "<div>\n",
       "<style scoped>\n",
       "    .dataframe tbody tr th:only-of-type {\n",
       "        vertical-align: middle;\n",
       "    }\n",
       "\n",
       "    .dataframe tbody tr th {\n",
       "        vertical-align: top;\n",
       "    }\n",
       "\n",
       "    .dataframe thead th {\n",
       "        text-align: right;\n",
       "    }\n",
       "</style>\n",
       "<table border=\"1\" class=\"dataframe\">\n",
       "  <thead>\n",
       "    <tr style=\"text-align: right;\">\n",
       "      <th></th>\n",
       "      <th>customer_id</th>\n",
       "      <th>First Time</th>\n",
       "      <th>Recent Time</th>\n",
       "      <th>Frequency</th>\n",
       "      <th># of Orders in last 7 days</th>\n",
       "      <th># of Orders in last 4 weeks</th>\n",
       "      <th>Monetory</th>\n",
       "      <th>Amount in last 7 days</th>\n",
       "      <th>Amount in last 4 weeks</th>\n",
       "      <th>Avg_DistanceFromResturant</th>\n",
       "      <th>Avg_DeliveryTime</th>\n",
       "      <th>average_cost</th>\n",
       "      <th>time_diff</th>\n",
       "      <th>Recency</th>\n",
       "      <th>R</th>\n",
       "      <th>M</th>\n",
       "      <th>F</th>\n",
       "      <th>RMF</th>\n",
       "    </tr>\n",
       "  </thead>\n",
       "  <tbody>\n",
       "    <tr>\n",
       "      <th>607</th>\n",
       "      <td>1164911</td>\n",
       "      <td>2015-07-04 02:38:00</td>\n",
       "      <td>2015-11-24 03:03:00</td>\n",
       "      <td>25</td>\n",
       "      <td>0.0</td>\n",
       "      <td>1.0</td>\n",
       "      <td>1769</td>\n",
       "      <td>0</td>\n",
       "      <td>55</td>\n",
       "      <td>2.2</td>\n",
       "      <td>49</td>\n",
       "      <td>70.760000</td>\n",
       "      <td>143 days 00:25:00</td>\n",
       "      <td>1027</td>\n",
       "      <td>2</td>\n",
       "      <td>2</td>\n",
       "      <td>1</td>\n",
       "      <td>221</td>\n",
       "    </tr>\n",
       "    <tr>\n",
       "      <th>3620</th>\n",
       "      <td>1160659</td>\n",
       "      <td>2015-07-09 05:12:00</td>\n",
       "      <td>2015-09-09 00:57:00</td>\n",
       "      <td>4</td>\n",
       "      <td>0.0</td>\n",
       "      <td>0.0</td>\n",
       "      <td>1225</td>\n",
       "      <td>0</td>\n",
       "      <td>0</td>\n",
       "      <td>3.5</td>\n",
       "      <td>56</td>\n",
       "      <td>306.250000</td>\n",
       "      <td>61 days 19:45:00</td>\n",
       "      <td>1103</td>\n",
       "      <td>5</td>\n",
       "      <td>2</td>\n",
       "      <td>2</td>\n",
       "      <td>522</td>\n",
       "    </tr>\n",
       "    <tr>\n",
       "      <th>973</th>\n",
       "      <td>79426</td>\n",
       "      <td>2015-07-13 10:31:00</td>\n",
       "      <td>2015-10-06 00:32:00</td>\n",
       "      <td>18</td>\n",
       "      <td>0.0</td>\n",
       "      <td>0.0</td>\n",
       "      <td>4212</td>\n",
       "      <td>0</td>\n",
       "      <td>0</td>\n",
       "      <td>2.3</td>\n",
       "      <td>49</td>\n",
       "      <td>234.000000</td>\n",
       "      <td>84 days 14:01:00</td>\n",
       "      <td>1076</td>\n",
       "      <td>4</td>\n",
       "      <td>1</td>\n",
       "      <td>1</td>\n",
       "      <td>411</td>\n",
       "    </tr>\n",
       "    <tr>\n",
       "      <th>3972</th>\n",
       "      <td>404938</td>\n",
       "      <td>2015-07-18 04:45:00</td>\n",
       "      <td>2015-08-29 09:52:00</td>\n",
       "      <td>4</td>\n",
       "      <td>0.0</td>\n",
       "      <td>0.0</td>\n",
       "      <td>845</td>\n",
       "      <td>0</td>\n",
       "      <td>0</td>\n",
       "      <td>1.2</td>\n",
       "      <td>19</td>\n",
       "      <td>211.250000</td>\n",
       "      <td>42 days 05:07:00</td>\n",
       "      <td>1114</td>\n",
       "      <td>5</td>\n",
       "      <td>3</td>\n",
       "      <td>2</td>\n",
       "      <td>532</td>\n",
       "    </tr>\n",
       "    <tr>\n",
       "      <th>4583</th>\n",
       "      <td>731799</td>\n",
       "      <td>2015-09-25 23:51:00</td>\n",
       "      <td>2015-12-13 16:58:00</td>\n",
       "      <td>3</td>\n",
       "      <td>1.0</td>\n",
       "      <td>1.0</td>\n",
       "      <td>4141</td>\n",
       "      <td>2013</td>\n",
       "      <td>2013</td>\n",
       "      <td>2.9</td>\n",
       "      <td>38</td>\n",
       "      <td>1380.333333</td>\n",
       "      <td>78 days 17:07:00</td>\n",
       "      <td>1008</td>\n",
       "      <td>1</td>\n",
       "      <td>1</td>\n",
       "      <td>3</td>\n",
       "      <td>113</td>\n",
       "    </tr>\n",
       "  </tbody>\n",
       "</table>\n",
       "</div>"
      ],
      "text/plain": [
       "      customer_id          First Time         Recent Time  Frequency  \\\n",
       "607       1164911 2015-07-04 02:38:00 2015-11-24 03:03:00         25   \n",
       "3620      1160659 2015-07-09 05:12:00 2015-09-09 00:57:00          4   \n",
       "973         79426 2015-07-13 10:31:00 2015-10-06 00:32:00         18   \n",
       "3972       404938 2015-07-18 04:45:00 2015-08-29 09:52:00          4   \n",
       "4583       731799 2015-09-25 23:51:00 2015-12-13 16:58:00          3   \n",
       "\n",
       "      # of Orders in last 7 days  # of Orders in last 4 weeks  Monetory  \\\n",
       "607                          0.0                          1.0      1769   \n",
       "3620                         0.0                          0.0      1225   \n",
       "973                          0.0                          0.0      4212   \n",
       "3972                         0.0                          0.0       845   \n",
       "4583                         1.0                          1.0      4141   \n",
       "\n",
       "      Amount in last 7 days  Amount in last 4 weeks  \\\n",
       "607                       0                      55   \n",
       "3620                      0                       0   \n",
       "973                       0                       0   \n",
       "3972                      0                       0   \n",
       "4583                   2013                    2013   \n",
       "\n",
       "      Avg_DistanceFromResturant  Avg_DeliveryTime  average_cost  \\\n",
       "607                         2.2                49     70.760000   \n",
       "3620                        3.5                56    306.250000   \n",
       "973                         2.3                49    234.000000   \n",
       "3972                        1.2                19    211.250000   \n",
       "4583                        2.9                38   1380.333333   \n",
       "\n",
       "             time_diff  Recency  R  M  F  RMF  \n",
       "607  143 days 00:25:00     1027  2  2  1  221  \n",
       "3620  61 days 19:45:00     1103  5  2  2  522  \n",
       "973   84 days 14:01:00     1076  4  1  1  411  \n",
       "3972  42 days 05:07:00     1114  5  3  2  532  \n",
       "4583  78 days 17:07:00     1008  1  1  3  113  "
      ]
     },
     "execution_count": 192,
     "metadata": {},
     "output_type": "execute_result"
    }
   ],
   "source": [
    "df.sample(5)"
   ]
  },
  {
   "cell_type": "code",
   "execution_count": 196,
   "metadata": {},
   "outputs": [
    {
     "data": {
      "text/plain": [
       "(647, 18)"
      ]
     },
     "execution_count": 196,
     "metadata": {},
     "output_type": "execute_result"
    }
   ],
   "source": [
    "df[df['RMF'] == '111'].shape"
   ]
  },
  {
   "cell_type": "code",
   "execution_count": 218,
   "metadata": {},
   "outputs": [],
   "source": [
    "window = 7\n",
    "\n",
    "den = math.factorial(window)\n",
    "def buyer_propensity(mean, window):\n",
    "    return np.exp(-mean) * np.power(mean, window) / den\n",
    "\n",
    "\n",
    "df['mean'] = df.time_diff.apply(lambda x: x.days) / df.Frequency\n",
    "df['7_days_propensity'] = df.mean.apply(lambda x : buyer_propensity(x, window))"
   ]
  },
  {
   "cell_type": "code",
   "execution_count": 220,
   "metadata": {},
   "outputs": [
    {
     "data": {
      "text/plain": [
       "(1637, 20)"
      ]
     },
     "execution_count": 220,
     "metadata": {},
     "output_type": "execute_result"
    }
   ],
   "source": [
    "df[df['7_days_propensity'] > 0.1].shape"
   ]
  },
  {
   "cell_type": "code",
   "execution_count": 211,
   "metadata": {},
   "outputs": [
    {
     "data": {
      "text/plain": [
       "24"
      ]
     },
     "execution_count": 211,
     "metadata": {},
     "output_type": "execute_result"
    }
   ],
   "source": [
    "math.factorial(4)"
   ]
  }
 ],
 "metadata": {
  "kernelspec": {
   "display_name": "Python 3",
   "language": "python",
   "name": "python3"
  },
  "language_info": {
   "codemirror_mode": {
    "name": "ipython",
    "version": 3
   },
   "file_extension": ".py",
   "mimetype": "text/x-python",
   "name": "python",
   "nbconvert_exporter": "python",
   "pygments_lexer": "ipython3",
   "version": "3.6.4"
  }
 },
 "nbformat": 4,
 "nbformat_minor": 2
}
